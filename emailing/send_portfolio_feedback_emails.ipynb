{
 "cells": [
  {
   "cell_type": "code",
   "execution_count": null,
   "metadata": {
    "pycharm": {
     "is_executing": false
    }
   },
   "outputs": [],
   "source": [
    "import math\n",
    "import pandas as pd\n",
    "%load_ext dotenv\n",
    "%dotenv\n",
    "import os\n",
    "from email.mime.multipart import MIMEMultipart\n",
    "from email.mime.base import MIMEBase\n",
    "from email.mime.text import MIMEText\n",
    "from email.utils import COMMASPACE, formatdate\n",
    "from email import encoders\n",
    "\n",
    "import mimetypes\n",
    "from os.path import basename\n",
    "import smtplib\n",
    "import re\n",
    "import jinja2\n",
    "import yaml\n",
    "import logging\n",
    "from logging.config import dictConfig\n",
    "\n",
    "# with open(\"logconf.yml\", 'r') as f:\n",
    "#     log_config = yaml.safe_load(f.read())\n",
    "# dictConfig(log_config)\n",
    "logger = logging.\\\n",
    "    getLogger(__name__)"
   ]
  },
  {
   "cell_type": "code",
   "execution_count": null,
   "metadata": {
    "pycharm": {
     "is_executing": true,
     "name": "#%%\n"
    }
   },
   "outputs": [],
   "source": [
    "\n",
    "mailserver = smtplib.SMTP('smtp.gmail.com',587)\n",
    "mailserver.ehlo()\n",
    "mailserver.starttls()\n",
    "mailserver.login(os.environ.get('GMAIL_USER'), os.environ.get('GMAIL_PW'))\n",
    "# mailserver = smtplib.SMTP('smtp.office365.com',25)\n",
    "# mailserver.ehlo()\n",
    "# mailserver.starttls()\n",
    "# print(os.environ.get('UOB_USER'))\n",
    "# mailserver.login(os.environ.get('UOB_USER'), os.environ.get('UOB_PW'))\n",
    "\n",
    "\n",
    "jinja_environment = jinja2.Environment(loader=jinja2.FileSystemLoader(os.path.abspath(os.getcwd()) + '/templates'))\n",
    "# template = jinja_environment.get_template('unsuccessful_project_email.html')\n",
    "template = jinja_environment.get_template('portfolio_feedback_email.html')\n"
   ]
  },
  {
   "cell_type": "code",
   "execution_count": null,
   "metadata": {
    "pycharm": {
     "is_executing": true,
     "name": "#%%\n"
    }
   },
   "outputs": [],
   "source": [
    "import pandas as pd\n",
    "\n",
    "\"\"\"\n",
    "Script to prepare feedback files and BB upload summary sheets.\n",
    "\n",
    "A bunch of files are required with student and group info.\n",
    "\n",
    "Because xl marksheets have names not identical to groups, the first step is to compute a map of \n",
    "student <> group marksheet filename\n",
    "\n",
    "https://www.ole.bris.ac.uk/bbcswebdav/institution/TEL/EMA%20guidance/Published%20guides/B1.4%20Marking%20and%20Moderation.pdf   \n",
    "\"\"\"\n",
    "\n",
    "\"the BB assessment download file\"\n",
    "assessment_df = pd.read_excel(\n",
    "    'Blackboard marking file .xls',\n",
    "    skiprows=3)\n",
    "\n",
    "\"student_list.xlsx -- direct download from evision MyStudents \"\n",
    "df_students = pd.read_excel(\n",
    "    'student_list.xlsx',\n",
    "    sheet_name='Sheet1')\n",
    "\n",
    "\"combined marking sheet for all portfolios. created by `merge_xls.ipynb`\"\n",
    "df_marks = pd.read_excel(\n",
    "    'marks.xlsx',\n",
    "    sheet_name='marks_short')\n",
    "\n",
    "\n",
    "student_files = {}\n",
    "# get xl file name for each student who submitted\n",
    "for student in assessment_df['Username'].values:\n",
    "    \n",
    "    group_name = 'XXX'\n",
    "    student_files[student] = group_name\n",
    "\n",
    "\n",
    "import glob\n",
    "\n",
    "# load all files\n",
    "files = glob.glob(\n",
    "    'Marksheets/*.xlsx', )\n",
    "\n",
    "markssheet_paths = {}\n",
    "for f in files:\n",
    "    import os\n",
    "\n",
    "    group = os.path.basename(f).split('.')[0]\n",
    "    markssheet_paths[group] = f\n",
    "\n",
    "from shutil import copyfile"
   ]
  },
  {
   "cell_type": "code",
   "execution_count": null,
   "metadata": {
    "pycharm": {
     "is_executing": true,
     "name": "#%%\n"
    }
   },
   "outputs": [],
   "source": [
    "def add_attachments(path):\n",
    "            \n",
    "    ctype, encoding = mimetypes.guess_type(path)\n",
    "    if ctype is None or encoding is not None:\n",
    "        # No guess could be made, or the file is encoded (compressed), so\n",
    "        # use a generic bag-of-bits type.\n",
    "        ctype = 'application/octet-stream'\n",
    "    maintype, subtype = ctype.split('/', 1)\n",
    "    \n",
    "    with open(path, 'rb') as fp:\n",
    "        part = MIMEBase(maintype, subtype)\n",
    "        part.set_payload(fp.read())\n",
    "        # Encode the payload using Base64\n",
    "        encoders.encode_base64(part)\n",
    "\n",
    "    part.add_header('Content-Disposition', 'attachment', filename=path)\n",
    "    msg.attach(part)\n",
    "    \n",
    "        \n",
    "\n",
    "\"\"\"\n",
    "for each submission on blackboard\n",
    "1. find the student\n",
    "2. find the group\n",
    "3. get the mark for the group and write it to the relevant excel file\n",
    "4. copy the excel file into a returns folder\n",
    "\"\"\"\n",
    "for i, row in assessment_df.iterrows():\n",
    "    username_ = row['Username']\n",
    "    logfile.write(username_)\n",
    "    group_name = student_files[username_]\n",
    "    logfile.write(group_name)\n",
    "\n",
    "    mark = df_marks.loc[df_marks['group'] == group_name]['mark'].values[0]\n",
    "    logfile.write(mark)\n",
    "    ifor_val = mark\n",
    "    assessment_df.at[i, 'mark'] = ifor_val\n",
    "\n",
    "    student_number = df_students.loc[df_students['COMMON USERNAME'] == username_]['STUDENT NUMBER'].values[0]\n",
    "    file_path = markssheet_paths[group_name]\n",
    "    student_identifier = username_\n",
    "    \n",
    "\n",
    "\n",
    "    student_emails = [username_+'@my.bristol.ac.uk']\n",
    "    item = {'projectName':group_name,                                              \n",
    "            'studentEmails': student_emails,            \n",
    "    }\n",
    "    \n",
    "    context = {'projectName': item['projectName'], 'mark':mark}\n",
    "\n",
    "    body = template.render(context)\n",
    "\n",
    "    msg = MIMEMultipart()\n",
    "    send_from = 'XXX'\n",
    "    msg['From'] = send_from\n",
    "    send_to = student_emails\n",
    "    msg['To'] = COMMASPACE.join(send_to)\n",
    "    cc_adr = 'XXX'\n",
    "\n",
    "    msg['CC'] = cc_adr\n",
    "    msg['Date'] = formatdate(localtime=True)\n",
    "    msg['Subject'] = f'Feedback {group_name}'\n",
    "    \n",
    "    msg.attach(MIMEText(body, 'html'))\n",
    "    \n",
    "    \n",
    "    add_attachments(file_path)\n",
    "\n",
    "    with open('log.txt', 'a+') as logfile:\n",
    "        logfile.write(f'sent email for project {group_name}\\n')\n",
    "        logfile.write(f'\\temails: {send_to}\\n')\n",
    "        \n",
    "    \n",
    "    mailserver.sendmail(send_from, send_to + [cc_adr] + student_emails, msg.as_string())    "
   ]
  },
  {
   "cell_type": "code",
   "execution_count": null,
   "metadata": {
    "pycharm": {
     "is_executing": true,
     "name": "#%%\n"
    }
   },
   "outputs": [],
   "source": [
    "mailserver.quit()\n",
    "\n",
    "#"
   ]
  },
  {
   "cell_type": "code",
   "execution_count": null,
   "metadata": {
    "pycharm": {
     "is_executing": true,
     "name": "#%%\n"
    }
   },
   "outputs": [],
   "source": [
    "\n"
   ]
  }
 ],
 "metadata": {
  "kernelspec": {
   "display_name": "Python 3",
   "language": "python",
   "name": "python3"
  },
  "language_info": {
   "codemirror_mode": {
    "name": "ipython",
    "version": 3
   },
   "file_extension": ".py",
   "mimetype": "text/x-python",
   "name": "python",
   "nbconvert_exporter": "python",
   "pygments_lexer": "ipython3",
   "version": "3.7.0"
  },
  "pycharm": {
   "stem_cell": {
    "cell_type": "raw",
    "metadata": {
     "collapsed": false
    },
    "source": []
   }
  }
 },
 "nbformat": 4,
 "nbformat_minor": 1
}
